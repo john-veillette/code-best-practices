{
 "cells": [
  {
   "cell_type": "markdown",
   "id": "3f4fbc8b",
   "metadata": {},
   "source": [
    "We put our import statements at the top of our script, because we're civilized."
   ]
  },
  {
   "cell_type": "code",
   "execution_count": 1,
   "id": "bb264ea3",
   "metadata": {},
   "outputs": [],
   "source": [
    "from scipy.special import stdtr as t_cdf\n",
    "import numpy as np\n",
    "import pandas as pd\n",
    "import scipy\n",
    "\n",
    "from sklearn.datasets import load_iris"
   ]
  },
  {
   "cell_type": "markdown",
   "id": "38b8a3a8",
   "metadata": {},
   "source": [
    "Then we load our data because we have data because we did the science. "
   ]
  },
  {
   "cell_type": "code",
   "execution_count": 2,
   "id": "29d32cfa",
   "metadata": {},
   "outputs": [
    {
     "data": {
      "text/html": [
       "<div>\n",
       "<style scoped>\n",
       "    .dataframe tbody tr th:only-of-type {\n",
       "        vertical-align: middle;\n",
       "    }\n",
       "\n",
       "    .dataframe tbody tr th {\n",
       "        vertical-align: top;\n",
       "    }\n",
       "\n",
       "    .dataframe thead th {\n",
       "        text-align: right;\n",
       "    }\n",
       "</style>\n",
       "<table border=\"1\" class=\"dataframe\">\n",
       "  <thead>\n",
       "    <tr style=\"text-align: right;\">\n",
       "      <th></th>\n",
       "      <th>sepal length (cm)</th>\n",
       "      <th>sepal width (cm)</th>\n",
       "      <th>petal length (cm)</th>\n",
       "      <th>petal width (cm)</th>\n",
       "    </tr>\n",
       "  </thead>\n",
       "  <tbody>\n",
       "    <tr>\n",
       "      <th>0</th>\n",
       "      <td>5.1</td>\n",
       "      <td>3.5</td>\n",
       "      <td>1.4</td>\n",
       "      <td>0.2</td>\n",
       "    </tr>\n",
       "    <tr>\n",
       "      <th>1</th>\n",
       "      <td>4.9</td>\n",
       "      <td>3.0</td>\n",
       "      <td>1.4</td>\n",
       "      <td>0.2</td>\n",
       "    </tr>\n",
       "    <tr>\n",
       "      <th>2</th>\n",
       "      <td>4.7</td>\n",
       "      <td>3.2</td>\n",
       "      <td>1.3</td>\n",
       "      <td>0.2</td>\n",
       "    </tr>\n",
       "    <tr>\n",
       "      <th>3</th>\n",
       "      <td>4.6</td>\n",
       "      <td>3.1</td>\n",
       "      <td>1.5</td>\n",
       "      <td>0.2</td>\n",
       "    </tr>\n",
       "    <tr>\n",
       "      <th>4</th>\n",
       "      <td>5.0</td>\n",
       "      <td>3.6</td>\n",
       "      <td>1.4</td>\n",
       "      <td>0.2</td>\n",
       "    </tr>\n",
       "  </tbody>\n",
       "</table>\n",
       "</div>"
      ],
      "text/plain": [
       "   sepal length (cm)  sepal width (cm)  petal length (cm)  petal width (cm)\n",
       "0                5.1               3.5                1.4               0.2\n",
       "1                4.9               3.0                1.4               0.2\n",
       "2                4.7               3.2                1.3               0.2\n",
       "3                4.6               3.1                1.5               0.2\n",
       "4                5.0               3.6                1.4               0.2"
      ]
     },
     "execution_count": 2,
     "metadata": {},
     "output_type": "execute_result"
    }
   ],
   "source": [
    "df = load_iris(as_frame = True)['data']\n",
    "df.head()"
   ]
  },
  {
   "cell_type": "code",
   "execution_count": 3,
   "id": "bfa2edaf",
   "metadata": {},
   "outputs": [
    {
     "name": "stdout",
     "output_type": "stream",
     "text": [
      "number of observations: 150\n"
     ]
    }
   ],
   "source": [
    "print('number of observations:', df.shape[0])"
   ]
  },
  {
   "cell_type": "code",
   "execution_count": 4,
   "id": "ed81c22b",
   "metadata": {},
   "outputs": [],
   "source": [
    "# get our data as vectors\n",
    "pw = df['petal width (cm)'].to_numpy()\n",
    "pl = df['petal length (cm)'].to_numpy()\n",
    "sw = df['sepal width (cm)'].to_numpy()\n",
    "sl = df['sepal length (cm)'].to_numpy()"
   ]
  },
  {
   "cell_type": "markdown",
   "id": "68fa3643",
   "metadata": {},
   "source": [
    "Now, we'll do an analysis. For the sake of this example, we'll pretend we don't have access to a function that does _t_-tests. I know, it's unthinkable. \n",
    "\n",
    "We will write our _t_-test from scratch, like a common experimental design student. Let's find out if petals are longer than they are wide. "
   ]
  },
  {
   "cell_type": "code",
   "execution_count": 5,
   "id": "2d7b9762",
   "metadata": {},
   "outputs": [
    {
     "name": "stdout",
     "output_type": "stream",
     "text": [
      "t = 29.796754, p = 1.200807e-64\n"
     ]
    }
   ],
   "source": [
    "# compute the paired-sample t statistic\n",
    "t = (pl-pw).mean()/np.sqrt((((pl-pw)-(pl-pw).mean())**2).sum()/149/150)\n",
    "# and then compute the p-value\n",
    "p = t_cdf(149, -np.abs(t))*2\n",
    "# print results\n",
    "print('t = %f, p = %e'%(t, p))"
   ]
  },
  {
   "cell_type": "markdown",
   "id": "245a9c43",
   "metadata": {},
   "source": [
    "We also want to know whether sepals are wider than 3 cm (for some reason), so let's do that too."
   ]
  },
  {
   "cell_type": "code",
   "execution_count": 6,
   "id": "be4e9186",
   "metadata": {},
   "outputs": [
    {
     "name": "stdout",
     "output_type": "stream",
     "text": [
      "t = 1.611015, p = 0.054646\n"
     ]
    }
   ],
   "source": [
    "# one sample t-test\n",
    "t = (sw-3).mean()/np.sqrt((((sw-3)-(sw-3).mean())**2).sum()/149/150)\n",
    "p = t_cdf(149, -t)\n",
    "print('t = %f, p = %f'%(t, p))"
   ]
  },
  {
   "cell_type": "markdown",
   "id": "bacff76f",
   "metadata": {},
   "source": [
    "These results do match what you'd get out of scipy's _t_-test function, so it is \"correct\" insofar as it did what you wanted. \n",
    "\n",
    "But it can still be improved. How?\n",
    "1. Variable names aren't descriptive. This script is pretty short, so you can just look up and see what they mean, but that won't always be the case.\n",
    "2. Lines of code are repeated almost verbatim, so if you ever change the code, you'll have to remember to change it in multiple places. (This makes bugs more likely to occur.)\n",
    "3. Difficult to tell what's going on. (For instance, can you tell if these are one-tailed or two-tailed tests?)\n",
    "3. Some values are hard coded, which makes the code difficult to re-use. \n",
    "\n",
    "Let's imagine, for example, that someone ran a replication study (this is, after all, a groundbreaking advance in botany). They'll have to comb through the code and find all the idiosyncratic things you decided to hard code into your script. You'd have to do the same thing if you wanted to re-use this code on another dataset, or your results would be incorrect. "
   ]
  },
  {
   "cell_type": "markdown",
   "id": "3331ff96",
   "metadata": {},
   "source": [
    "Let's modify things to make them a bit more human-friendly. We'll start with our one-sample test."
   ]
  },
  {
   "cell_type": "code",
   "execution_count": 7,
   "id": "ce7e520c",
   "metadata": {},
   "outputs": [
    {
     "name": "stdout",
     "output_type": "stream",
     "text": [
      "t = 1.611015, p = 0.054646\n"
     ]
    }
   ],
   "source": [
    "# if you hard code a variable, put it at the top of a chunk\n",
    "# and MAKE IT NOTICEABLE with capitalization\n",
    "NULL_MEAN = 3 \n",
    "\n",
    "delta = sw - NULL_MEAN \n",
    "n_obs = delta.shape[0]\n",
    "var = ((delta - delta.mean())**2).sum() / (n_obs - 1)\n",
    "se = np.sqrt(var / n_obs) \n",
    "t = delta.mean() / se\n",
    "p = t_cdf(n_obs - 1, -t)\n",
    "\n",
    "print('t = %f, p = %f'%(t, p))"
   ]
  },
  {
   "cell_type": "markdown",
   "id": "b6fc499b",
   "metadata": {},
   "source": [
    "I think this is already a bit more readable. \n",
    "1. We broke up that awful line that computed the _t_-stat before into some smaller lines. This makes is easier to see what's going on. \n",
    "2. Hard-coded numbers have been remove. (`n` is now taken from `delta.shape`.) This doesn't just mean less editing later, but also makes it more clear what the value actually _means_.\n",
    "\n",
    "Notice that we made it more clear what's going on without adding any comments. The best code is _self-documenting_; it should be relatively clear what's going on without comments. (Still comment your code, though, but more on that later.)\n",
    "\n",
    "Still, we'd need to copy lines of code verbatim if we wanted to do the paired-sample test up above. Let's make our code a bit more reusable using the magic of _functions._"
   ]
  },
  {
   "cell_type": "code",
   "execution_count": 8,
   "id": "5721ca95",
   "metadata": {},
   "outputs": [
    {
     "name": "stdout",
     "output_type": "stream",
     "text": [
      "t = 1.611015, p = 0.054646\n"
     ]
    }
   ],
   "source": [
    "def compute_t_1samp(x, null_mean = 0):\n",
    "    delta = x - null_mean \n",
    "    n_obs = delta.shape[0]\n",
    "    var = ((delta - delta.mean())**2).sum() / (n_obs - 1)\n",
    "    se = np.sqrt(var / n_obs) \n",
    "    t = delta.mean() / se\n",
    "    return t\n",
    "\n",
    "t = compute_t_1samp(sw, null_mean = 3)\n",
    "p = t_cdf(sw.shape[0] - 1, -t)\n",
    "print('t = %f, p = %f'%(t, p))"
   ]
  },
  {
   "cell_type": "markdown",
   "id": "b3f7c28d",
   "metadata": {},
   "source": [
    "Note that I replaced, in our function definition, any reference to the data we're using (which we had called `sw`) with a generic variable name `x`. `x` is a placeholder for whatever I put into the function. It doesn't exist outside of the function. If I _try_ to access `x` outside of the function, it'll throw an error. If I name another variable `x` outside of the function, it won't affect how the function works. This is how things should be; everything is compartmentalized, which keeps the probability of changing one part of the code breaking another part of the code is low. \n",
    "\n",
    "Now, we have a re-useable function that can compute one-sample _t_-statistics for us. Since a paired-sample _t_-test is just a one-sample _t_-test on the paired differences, we can compute our paired _t_-statistic from above as follows."
   ]
  },
  {
   "cell_type": "code",
   "execution_count": 9,
   "id": "853288b3",
   "metadata": {},
   "outputs": [
    {
     "data": {
      "text/plain": [
       "29.79675378021898"
      ]
     },
     "execution_count": 9,
     "metadata": {},
     "output_type": "execute_result"
    }
   ],
   "source": [
    "compute_t_1samp(pl - pw) # no repeat code!"
   ]
  },
  {
   "cell_type": "markdown",
   "id": "cebaafe7",
   "metadata": {},
   "source": [
    "There's still something a bit hard to parse about the line where we compute the _p_ value. If you're not great at remembering formulas, it may be hard to parse whether we're computing a _p_ value for a one- or two-tailed test. (And in fact, we're doing two different types of test in the above.) This could, of course, be solved with a comment. But let's see if we can make things even easier on our future self."
   ]
  },
  {
   "cell_type": "code",
   "execution_count": 10,
   "id": "5901781f",
   "metadata": {},
   "outputs": [],
   "source": [
    "def compute_p_ttest(t, n_obs, tail = 0):\n",
    "    df = n_obs - 1\n",
    "    if tail == 0:\n",
    "        p = 2 * t_cdf(df, -np.abs(t))\n",
    "    elif tail == 1:\n",
    "        p = t_cdf(df, -t)\n",
    "    elif tail == -1:\n",
    "        p = t_cdf(df, t)\n",
    "    return p"
   ]
  },
  {
   "cell_type": "markdown",
   "id": "fa326a88",
   "metadata": {},
   "source": [
    "Now, we can compute the _p_-value for different types of test by changing the `tail` argument in the function above. We don't actually _use_ `tail = -1` in this analysis, but if you've already gone to the trouble of looking up these formulas, you might as well include it now. That way, you never have to think about those pesky formulas ever again! \n",
    "\n",
    "Okay, there's a better reason for thinking about use-cases that you aren't currently planning to avail yourself of. The more times the same code gets used, whether by you again or by someone else, the more likely it is that someone will catch a bug. So if you make you code _general_ -- that is, not limited in scope to your current analysis/project -- then it's more liklely that someone will come along one day and catch a bug. \n",
    "\n",
    "It might be confusing to someone what `tail = 1`, etc. means, so we'll add a _docstring_ to our function for posterity. A docstring should tell you what the inputs and outputs of a function are. If you write good docstrings, you shouldn't have to read the code within a function to tell how to use it. "
   ]
  },
  {
   "cell_type": "code",
   "execution_count": 11,
   "id": "0f618fae",
   "metadata": {},
   "outputs": [],
   "source": [
    "def compute_p_ttest(t, n_obs, tail = 0):\n",
    "    '''\n",
    "    Computes the p-value for a t-test.\n",
    "    \n",
    "    Arguments\n",
    "    ---------\n",
    "    t : float\n",
    "        The t-statistic.\n",
    "    n_obs : int\n",
    "        The number of observations (i.e. sample size).\n",
    "    tail : -1 or 0 or 1 (default = 0)\n",
    "        If tail is 1, the alternative hypothesis is that the\n",
    "        mean of the data is greater than 0 (upper tailed test).  If tail is 0,\n",
    "        the alternative hypothesis is that the mean of the data is different\n",
    "        than 0 (two tailed test).  If tail is -1, the alternative hypothesis\n",
    "        is that the mean of the data is less than 0 (lower tailed test).\n",
    "        \n",
    "    Returns\n",
    "    ---------\n",
    "    p : float\n",
    "        The p-value.\n",
    "    '''\n",
    "    df = n_obs - 1\n",
    "    if tail == 0:\n",
    "        p = 2 * t_cdf(df, -np.abs(t))\n",
    "    elif tail == 1:\n",
    "        p = t_cdf(df, -t)\n",
    "    elif tail == -1:\n",
    "        p = t_cdf(df, t)\n",
    "    else:\n",
    "        raise Exception('tail argument must be -1, 0, or 1!')\n",
    "    return p"
   ]
  },
  {
   "cell_type": "markdown",
   "id": "7a14d331",
   "metadata": {},
   "source": [
    "Since we have a docstring, you can now see the function documentation in a notebook by typing `?compute_p_ttest`. So that's useful. \n",
    "\n",
    "As a side note, you can format your docstrings anyway you want, but I recommend using the same format as above. Why? The conventional format is _machine readable_, which means that some software like [sphinx](https://www.sphinx-doc.org/en/master/) can use it to auto-generate HTML documentation for your code. \n",
    "\n",
    "Notice I also added a little bonus. Now, if you input a value of `tail` that isn't allowed, the function will give an informative error message, instead of just running and returning `None`. (Catching user errors in a function can save you a lot of debugging time later.)\n",
    "\n",
    "Now, we can put our two functions together in a higher-level function to make our _t_-tests super easy."
   ]
  },
  {
   "cell_type": "code",
   "execution_count": 12,
   "id": "c105d9fc",
   "metadata": {},
   "outputs": [],
   "source": [
    "def ttest_1samp(x, null_mean = 0, tail = 0):\n",
    "    '''\n",
    "    A one-sample t-test.\n",
    "    \n",
    "    Arguments\n",
    "    ---------\n",
    "    x : array of shape (n_observations,)\n",
    "        Your data.\n",
    "    null_mean : float\n",
    "        The distribution mean under the null hypothesis.\n",
    "    tail : -1 or 0 or 1 (default = 0)\n",
    "        If tail is 1, the alternative hypothesis is that the\n",
    "        mean of the data is greater than 0 (upper tailed test).  If tail is 0,\n",
    "        the alternative hypothesis is that the mean of the data is different\n",
    "        than 0 (two tailed test).  If tail is -1, the alternative hypothesis\n",
    "        is that the mean of the data is less than 0 (lower tailed test).\n",
    "        \n",
    "    Returns\n",
    "    ---------\n",
    "    t : float\n",
    "        The t-statistic.\n",
    "    p : float\n",
    "        The p-value.\n",
    "    '''\n",
    "    n_obs = x.shape[0]\n",
    "    t = compute_t_1samp(x, null_mean)\n",
    "    p = compute_p_ttest(t, n_obs, tail)\n",
    "    return t, p\n",
    "    \n",
    "def ttest_paired(x0, x1, tail = 0):\n",
    "    '''\n",
    "    A paired-sample t-test.\n",
    "    \n",
    "    Arguments\n",
    "    ---------\n",
    "    x0 : array of shape (n_observations,)\n",
    "    x1 : array of shape (n_observations,)\n",
    "    tail : -1 or 0 or 1 (default = 0)\n",
    "        If tail is 1, the alternative hypothesis is that the\n",
    "        mean of x0 is greater than that of x1. If tail is -1, \n",
    "        the alternative is that the mean of x1 is greater than\n",
    "        that of x0. If tail is 0, then the alternative is that\n",
    "        the means are different from one another. \n",
    "        \n",
    "    Returns\n",
    "    ---------\n",
    "    t : float\n",
    "        The t-statistic.\n",
    "    p : float\n",
    "        The p-value.\n",
    "    '''\n",
    "    t, p = ttest_1samp(x0 - x1, 0, tail)\n",
    "    return t, p"
   ]
  },
  {
   "cell_type": "code",
   "execution_count": 13,
   "id": "5c596c5e",
   "metadata": {},
   "outputs": [
    {
     "name": "stdout",
     "output_type": "stream",
     "text": [
      "t = 1.611015, p = 0.054646\n"
     ]
    }
   ],
   "source": [
    "# our one-sample t-test\n",
    "print('t = %f, p = %f'%ttest_1samp(sw, null_mean = 3, tail = 1))"
   ]
  },
  {
   "cell_type": "code",
   "execution_count": 14,
   "id": "91fbbbd5",
   "metadata": {},
   "outputs": [
    {
     "name": "stdout",
     "output_type": "stream",
     "text": [
      "t = 29.796754, p = 1.200807e-64\n"
     ]
    }
   ],
   "source": [
    "# our paired -sample t-test\n",
    "print('t = %f, p = %e'%ttest_paired(pl, pw, tail = 0))"
   ]
  },
  {
   "cell_type": "markdown",
   "id": "a566384f",
   "metadata": {},
   "source": [
    "This is, I think, a big improvement over the original code. Notice that, as we increase the level of _abstraction_, what our code is doing becomes more and more clear. It is easy to tell, for instance, that a paired-sample test is just a one-sample test on the paired differences. This is accomplished without particularly detailed comments; it happens organically by using appropriate function names, which abstract away from the minor details of the program. If you use abstraction (such as functions) well, your main script should read a lot like the methods section of your paper. \n",
    "\n",
    "Speaking of which, while I have the functions sitting in this notebook for illustration, I don't actually like to keep my function definitions in the main script, if only because it keeps the main script less cluttered (again, because I like it to read sort of like a methods section -- a high level overview of the analysis). But also, there are some handy things you can do if you keep your functions in a seperate _module_."
   ]
  },
  {
   "cell_type": "code",
   "execution_count": null,
   "id": "a2b16be8",
   "metadata": {},
   "outputs": [],
   "source": []
  }
 ],
 "metadata": {
  "kernelspec": {
   "display_name": "Python 3 (ipykernel)",
   "language": "python",
   "name": "python3"
  },
  "language_info": {
   "codemirror_mode": {
    "name": "ipython",
    "version": 3
   },
   "file_extension": ".py",
   "mimetype": "text/x-python",
   "name": "python",
   "nbconvert_exporter": "python",
   "pygments_lexer": "ipython3",
   "version": "3.10.9"
  }
 },
 "nbformat": 4,
 "nbformat_minor": 5
}
