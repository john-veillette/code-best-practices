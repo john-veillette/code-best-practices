{
 "cells": [
  {
   "cell_type": "code",
   "execution_count": 1,
   "id": "430b96f4",
   "metadata": {},
   "outputs": [],
   "source": [
    "from scipy.special import stdtr as t_cdf\n",
    "import numpy as np\n",
    "import pandas as pd\n",
    "import scipy\n",
    "\n",
    "from sklearn.datasets import load_iris"
   ]
  },
  {
   "cell_type": "markdown",
   "id": "465ade38",
   "metadata": {},
   "source": [
    "Now, the _t_-test function live in `util/ttests.py`. We put a file called `__init.py__` in the `util` folder, so Python knows to treat `util` as a module, and any other `.py` file in `util` as a submodule. So we can import our functions as follows:"
   ]
  },
  {
   "cell_type": "code",
   "execution_count": 2,
   "id": "0168b3af",
   "metadata": {},
   "outputs": [],
   "source": [
    "from util.ttests import ttest_1samp, ttest_paired"
   ]
  },
  {
   "cell_type": "markdown",
   "id": "e98ef5c4",
   "metadata": {},
   "source": [
    "(If you'd still rather use `from util import ttest_1samp`, you can still do that if you specify that this should be possible in `util/__init__.py`. I put a note in that file showing you how to do that, if that really  floats your boat.)"
   ]
  },
  {
   "cell_type": "markdown",
   "id": "1ddf6806",
   "metadata": {},
   "source": [
    "From then on out, everything is the same as before."
   ]
  },
  {
   "cell_type": "code",
   "execution_count": 3,
   "id": "f7f7199d",
   "metadata": {},
   "outputs": [],
   "source": [
    "# load the data into a dataframe \n",
    "df = load_iris(as_frame = True)['data']"
   ]
  },
  {
   "cell_type": "code",
   "execution_count": 4,
   "id": "dc49ac03",
   "metadata": {},
   "outputs": [
    {
     "name": "stdout",
     "output_type": "stream",
     "text": [
      "t = 1.611015, p = 0.054646\n"
     ]
    }
   ],
   "source": [
    "# our one-sample t-test\n",
    "t, p = ttest_1samp(df['sepal width (cm)'], null_mean = 3, tail = 1)\n",
    "print('t = %f, p = %f'%(t, p))"
   ]
  },
  {
   "cell_type": "code",
   "execution_count": 5,
   "id": "5151f646",
   "metadata": {},
   "outputs": [
    {
     "name": "stdout",
     "output_type": "stream",
     "text": [
      "t = 29.796754, p = 1.200807e-64\n"
     ]
    }
   ],
   "source": [
    "# our paired -sample t-test\n",
    "t, p = ttest_paired(df['petal length (cm)'], df['petal width (cm)'], tail = 0)\n",
    "print('t = %f, p = %e'%(t, p))"
   ]
  },
  {
   "cell_type": "code",
   "execution_count": null,
   "id": "2d5996b9",
   "metadata": {},
   "outputs": [],
   "source": []
  }
 ],
 "metadata": {
  "kernelspec": {
   "display_name": "Python 3 (ipykernel)",
   "language": "python",
   "name": "python3"
  },
  "language_info": {
   "codemirror_mode": {
    "name": "ipython",
    "version": 3
   },
   "file_extension": ".py",
   "mimetype": "text/x-python",
   "name": "python",
   "nbconvert_exporter": "python",
   "pygments_lexer": "ipython3",
   "version": "3.10.9"
  }
 },
 "nbformat": 4,
 "nbformat_minor": 5
}
